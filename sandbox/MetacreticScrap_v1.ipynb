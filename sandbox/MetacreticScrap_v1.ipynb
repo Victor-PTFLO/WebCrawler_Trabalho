{
 "cells": [
  {
   "cell_type": "code",
   "execution_count": 1,
   "metadata": {},
   "outputs": [],
   "source": [
    "import requests\n",
    "import re\n",
    "from bs4 import BeautifulSoup\n",
    "import pandas as pd\n",
    "\n",
    "\n",
    "Metacritic = \"https://www.metacritic.com/game/playstation-4/the-last-of-us-remastered/user-reviews?page=1\"\n",
    "\n",
    "user_agent = {'User-agent': 'Mozilla/5.0'}\n",
    "\n",
    "session = requests.Session()\n",
    "response = requests.get(Metacritic, headers=user_agent)"
   ]
  },
  {
   "cell_type": "code",
   "execution_count": 7,
   "metadata": {},
   "outputs": [
    {
     "ename": "TypeError",
     "evalue": "'NoneType' object is not callable",
     "output_type": "error",
     "traceback": [
      "\u001b[1;31m---------------------------------------------------------------------------\u001b[0m",
      "\u001b[1;31mTypeError\u001b[0m                                 Traceback (most recent call last)",
      "Cell \u001b[1;32mIn[7], line 9\u001b[0m\n\u001b[0;32m      6\u001b[0m \u001b[39mfor\u001b[39;00m review \u001b[39min\u001b[39;00m rows:\n\u001b[0;32m      8\u001b[0m     review_dict[\u001b[39m'\u001b[39m\u001b[39mdate\u001b[39m\u001b[39m'\u001b[39m]\u001b[39m.\u001b[39mappend(review\u001b[39m.\u001b[39mfind(\u001b[39m'\u001b[39m\u001b[39mdiv\u001b[39m\u001b[39m'\u001b[39m, class_\u001b[39m=\u001b[39m\u001b[39m'\u001b[39m\u001b[39mdate\u001b[39m\u001b[39m'\u001b[39m)\u001b[39m.\u001b[39mtext)\n\u001b[1;32m----> 9\u001b[0m     review_dict[\u001b[39m'\u001b[39m\u001b[39mrating\u001b[39m\u001b[39m'\u001b[39m]\u001b[39m.\u001b[39mappend(review\u001b[39m.\u001b[39;49mfind(\u001b[39m'\u001b[39;49m\u001b[39mdiv\u001b[39;49m\u001b[39m'\u001b[39;49m, class_\u001b[39m=\u001b[39;49m\u001b[39m'\u001b[39;49m\u001b[39mreview_grade\u001b[39;49m\u001b[39m'\u001b[39;49m)\u001b[39m.\u001b[39;49mfindall(\u001b[39m'\u001b[39;49m\u001b[39mdiv\u001b[39;49m\u001b[39m'\u001b[39;49m)[\u001b[39m0\u001b[39m]\u001b[39m.\u001b[39mtext)\n\u001b[0;32m     11\u001b[0m     \u001b[39m#Criado um exception para as avaliações sem nome\u001b[39;00m\n\u001b[0;32m     12\u001b[0m     \u001b[39mtry\u001b[39;00m:\n",
      "\u001b[1;31mTypeError\u001b[0m: 'NoneType' object is not callable"
     ]
    }
   ],
   "source": [
    "bs = BeautifulSoup(response.text, 'html.parser')\n",
    "review_dict = {'name':[], 'date':[], 'rating':[], 'review':[]}\n",
    "\n",
    "rows = bs.find_all('div', class_='review_content')\n",
    "\n",
    "for review in rows:\n",
    "    \n",
    "    review_dict['date'].append(review.find('div', class_='date').text)\n",
    "    review_dict['rating'].append(review.find('div', class_='review_grade').text)\n",
    "\n",
    "    #Criado um exception para as avaliações sem nome\n",
    "    try:\n",
    "        review_dict['name'].append(review.find('div', class_='name').find('a').text)\n",
    "    except:\n",
    "        review_dict['name'].append(review_dict['name'].append(None))\n",
    "\n",
    "\n",
    "    if review.find('span', class_='blurb blurb_expanded'):\n",
    "        review_dict['review'].append(review.find('span', class_='blurb blurb_expanded').text)\n",
    "        # print(review.find('span', class_='blurb blurb_expanded').text)\n",
    "        # print(\"--------------------------\")\n",
    "    else:\n",
    "        review_dict['review'].append(review.find('div', class_='review_body').find('span', class_='blurb blurb_expanded'))\n",
    "        # print(review.find('div', class_='review_body').find('span', class_='blurb blurb_expanded'))\n",
    "        # print(\"--------------------------\")  "
   ]
  },
  {
   "cell_type": "code",
   "execution_count": 5,
   "metadata": {},
   "outputs": [],
   "source": [
    "sword_reviews = pd.DataFrame.from_dict(review_dict, orient='index')\n",
    "sword_reviews = sword_reviews.transpose()\n"
   ]
  },
  {
   "cell_type": "code",
   "execution_count": 6,
   "metadata": {},
   "outputs": [
    {
     "data": {
      "text/html": [
       "<div>\n",
       "<style scoped>\n",
       "    .dataframe tbody tr th:only-of-type {\n",
       "        vertical-align: middle;\n",
       "    }\n",
       "\n",
       "    .dataframe tbody tr th {\n",
       "        vertical-align: top;\n",
       "    }\n",
       "\n",
       "    .dataframe thead th {\n",
       "        text-align: right;\n",
       "    }\n",
       "</style>\n",
       "<table border=\"1\" class=\"dataframe\">\n",
       "  <thead>\n",
       "    <tr style=\"text-align: right;\">\n",
       "      <th></th>\n",
       "      <th>name</th>\n",
       "      <th>date</th>\n",
       "      <th>rating</th>\n",
       "      <th>review</th>\n",
       "    </tr>\n",
       "  </thead>\n",
       "  <tbody>\n",
       "    <tr>\n",
       "      <th>0</th>\n",
       "      <td>Artur95</td>\n",
       "      <td>Aug 10, 2014</td>\n",
       "      <td>\\n10\\n</td>\n",
       "      <td>None</td>\n",
       "    </tr>\n",
       "    <tr>\n",
       "      <th>1</th>\n",
       "      <td>Avodeskorm</td>\n",
       "      <td>Aug  4, 2014</td>\n",
       "      <td>\\n10\\n</td>\n",
       "      <td>Story- Overrated\\rGameplay- Underrated\\r Not t...</td>\n",
       "    </tr>\n",
       "    <tr>\n",
       "      <th>2</th>\n",
       "      <td>steveo481</td>\n",
       "      <td>Aug  5, 2014</td>\n",
       "      <td>\\n10\\n</td>\n",
       "      <td>Wow, I'm only part of the way into this story ...</td>\n",
       "    </tr>\n",
       "    <tr>\n",
       "      <th>3</th>\n",
       "      <td>sunr1sE</td>\n",
       "      <td>Aug  9, 2014</td>\n",
       "      <td>\\n10\\n</td>\n",
       "      <td>Simply the best game I've ever played. I was w...</td>\n",
       "    </tr>\n",
       "    <tr>\n",
       "      <th>4</th>\n",
       "      <td>Lucas10</td>\n",
       "      <td>Jul 30, 2014</td>\n",
       "      <td>\\n10\\n</td>\n",
       "      <td>None</td>\n",
       "    </tr>\n",
       "    <tr>\n",
       "      <th>...</th>\n",
       "      <td>...</td>\n",
       "      <td>...</td>\n",
       "      <td>...</td>\n",
       "      <td>...</td>\n",
       "    </tr>\n",
       "    <tr>\n",
       "      <th>101</th>\n",
       "      <td>None</td>\n",
       "      <td>Oct 22, 2014</td>\n",
       "      <td>\\n80\\n</td>\n",
       "      <td>None</td>\n",
       "    </tr>\n",
       "    <tr>\n",
       "      <th>102</th>\n",
       "      <td>None</td>\n",
       "      <td>Oct 13, 2014</td>\n",
       "      <td>\\n100\\n</td>\n",
       "      <td>None</td>\n",
       "    </tr>\n",
       "    <tr>\n",
       "      <th>103</th>\n",
       "      <td>None</td>\n",
       "      <td>None</td>\n",
       "      <td>None</td>\n",
       "      <td>None</td>\n",
       "    </tr>\n",
       "    <tr>\n",
       "      <th>104</th>\n",
       "      <td>None</td>\n",
       "      <td>None</td>\n",
       "      <td>None</td>\n",
       "      <td>None</td>\n",
       "    </tr>\n",
       "    <tr>\n",
       "      <th>105</th>\n",
       "      <td>None</td>\n",
       "      <td>None</td>\n",
       "      <td>None</td>\n",
       "      <td>None</td>\n",
       "    </tr>\n",
       "  </tbody>\n",
       "</table>\n",
       "<p>106 rows × 4 columns</p>\n",
       "</div>"
      ],
      "text/plain": [
       "           name          date   rating  \\\n",
       "0       Artur95  Aug 10, 2014   \\n10\\n   \n",
       "1    Avodeskorm  Aug  4, 2014   \\n10\\n   \n",
       "2     steveo481  Aug  5, 2014   \\n10\\n   \n",
       "3       sunr1sE  Aug  9, 2014   \\n10\\n   \n",
       "4       Lucas10  Jul 30, 2014   \\n10\\n   \n",
       "..          ...           ...      ...   \n",
       "101        None  Oct 22, 2014   \\n80\\n   \n",
       "102        None  Oct 13, 2014  \\n100\\n   \n",
       "103        None          None     None   \n",
       "104        None          None     None   \n",
       "105        None          None     None   \n",
       "\n",
       "                                                review  \n",
       "0                                                 None  \n",
       "1    Story- Overrated\\rGameplay- Underrated\\r Not t...  \n",
       "2    Wow, I'm only part of the way into this story ...  \n",
       "3    Simply the best game I've ever played. I was w...  \n",
       "4                                                 None  \n",
       "..                                                 ...  \n",
       "101                                               None  \n",
       "102                                               None  \n",
       "103                                               None  \n",
       "104                                               None  \n",
       "105                                               None  \n",
       "\n",
       "[106 rows x 4 columns]"
      ]
     },
     "execution_count": 6,
     "metadata": {},
     "output_type": "execute_result"
    }
   ],
   "source": [
    "sword_reviews"
   ]
  },
  {
   "cell_type": "code",
   "execution_count": 4,
   "metadata": {},
   "outputs": [
    {
     "data": {
      "text/plain": [
       "name      100\n",
       "date      103\n",
       "rating    103\n",
       "review     45\n",
       "dtype: int64"
      ]
     },
     "execution_count": 4,
     "metadata": {},
     "output_type": "execute_result"
    }
   ],
   "source": [
    "sword_reviews.count()"
   ]
  }
 ],
 "metadata": {
  "kernelspec": {
   "display_name": "Python 3",
   "language": "python",
   "name": "python3"
  },
  "language_info": {
   "codemirror_mode": {
    "name": "ipython",
    "version": 3
   },
   "file_extension": ".py",
   "mimetype": "text/x-python",
   "name": "python",
   "nbconvert_exporter": "python",
   "pygments_lexer": "ipython3",
   "version": "3.10.7"
  },
  "orig_nbformat": 4
 },
 "nbformat": 4,
 "nbformat_minor": 2
}
