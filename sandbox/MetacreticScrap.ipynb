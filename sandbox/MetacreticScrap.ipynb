{
 "cells": [
  {
   "cell_type": "code",
   "execution_count": 4,
   "metadata": {},
   "outputs": [],
   "source": [
    "import requests\n",
    "import re\n",
    "from bs4 import BeautifulSoup\n",
    "import pandas as pd\n",
    "\n",
    "\n",
    "Metacritic = \"https://www.metacritic.com/game/playstation-4/the-last-of-us-remastered/user-reviews?page=1\"\n",
    "\n",
    "user_agent = {'User-agent': 'Mozilla/5.0'}\n",
    "\n",
    "session = requests.Session()\n",
    "response = requests.get(Metacritic, headers=user_agent)"
   ]
  },
  {
   "cell_type": "code",
   "execution_count": 5,
   "metadata": {},
   "outputs": [],
   "source": [
    "# def ScrapPages(url, startpage, npages):\n",
    "    "
   ]
  },
  {
   "cell_type": "code",
   "execution_count": 6,
   "metadata": {},
   "outputs": [],
   "source": [
    "bs = BeautifulSoup(response.text, 'html.parser')\n",
    "review_dict = {'name':[], 'date':[], 'rating':[], 'review':[]}\n",
    "\n",
    "rows = bs.find_all('div', class_='review_content')\n",
    "\n",
    "for review in rows:\n",
    "    \n",
    "    review_dict['date'].append(review.find('div', class_='date').text)\n",
    "    review_dict['rating'].append(review.find('div', class_='review_grade').text)\n",
    "\n",
    "    #Criado um exception para as avaliações sem nome\n",
    "    try:\n",
    "        review_dict['name'].append(review.find('div', class_='name').find('a').text)\n",
    "    except:\n",
    "        review_dict['name'].append(review_dict['name'].append(None))\n",
    "\n",
    "\n",
    "    if review.find('span', class_='blurb blurb_expanded'):\n",
    "        review_dict['review'].append(review.find('span', class_='blurb blurb_expanded').text)\n",
    "        # print(review.find('span', class_='blurb blurb_expanded').text)\n",
    "        # print(\"--------------------------\")\n",
    "    else:\n",
    "        review_dict['review'].append(review.find('div', class_='review_body').find('span', class_='blurb blurb_expanded'))\n",
    "        # print(review.find('div', class_='review_body').find('span', class_='blurb blurb_expanded'))\n",
    "        # print(\"--------------------------\")  "
   ]
  },
  {
   "cell_type": "code",
   "execution_count": 7,
   "metadata": {},
   "outputs": [],
   "source": [
    "sword_reviews = pd.DataFrame.from_dict(review_dict, orient='index')\n",
    "sword_reviews = sword_reviews.transpose()\n"
   ]
  },
  {
   "cell_type": "code",
   "execution_count": 8,
   "metadata": {},
   "outputs": [
    {
     "data": {
      "text/plain": [
       "name      100\n",
       "date      103\n",
       "rating    103\n",
       "review     45\n",
       "dtype: int64"
      ]
     },
     "execution_count": 8,
     "metadata": {},
     "output_type": "execute_result"
    }
   ],
   "source": [
    "sword_reviews.count()"
   ]
  },
  {
   "cell_type": "code",
   "execution_count": null,
   "metadata": {},
   "outputs": [],
   "source": []
  }
 ],
 "metadata": {
  "kernelspec": {
   "display_name": "Python 3",
   "language": "python",
   "name": "python3"
  },
  "language_info": {
   "codemirror_mode": {
    "name": "ipython",
    "version": 3
   },
   "file_extension": ".py",
   "mimetype": "text/x-python",
   "name": "python",
   "nbconvert_exporter": "python",
   "pygments_lexer": "ipython3",
   "version": "3.10.7"
  },
  "orig_nbformat": 4
 },
 "nbformat": 4,
 "nbformat_minor": 2
}
