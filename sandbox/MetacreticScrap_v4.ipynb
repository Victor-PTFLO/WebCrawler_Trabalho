{
 "cells": [
  {
   "attachments": {},
   "cell_type": "markdown",
   "metadata": {},
   "source": [
    "# Tema: Avaliação de jogos\n",
    "- The Last Of Us Remastered\n",
    "- Duke Nukem Forever\n",
    "- God of War: Ragnarok\n",
    "- No Man's Sky\n",
    "- Biomutant\n",
    "- CyberPunk 2077\n",
    "\n",
    "# Objetivo \n",
    "- Desenvolver um crawler para coletar do site de avaliações de filmes e jogos(Metacritic) e construir um modelo de analise de sentimento"
   ]
  },
  {
   "attachments": {},
   "cell_type": "markdown",
   "metadata": {},
   "source": [
    "## Criação do Crawler"
   ]
  },
  {
   "cell_type": "code",
   "execution_count": 1,
   "metadata": {},
   "outputs": [],
   "source": [
    "import requests\n",
    "import re\n",
    "from bs4 import BeautifulSoup\n",
    "import pandas as pd"
   ]
  },
  {
   "cell_type": "code",
   "execution_count": 2,
   "metadata": {},
   "outputs": [],
   "source": [
    "def get_name(vreview):\n",
    "    try:\n",
    "        vname = vreview.find('div', class_='name').find('a').text\n",
    "    except:\n",
    "        vname = vreview.find('div', class_='review_body').find('span', class_='blurb blurb_expanded')\n",
    "    return vname\n",
    "\n",
    "def get_rating(vreview):\n",
    "    try:\n",
    "        vrating = vreview.find('div', class_='review_grade').text.strip('\\n')\n",
    "    except:\n",
    "        vrating = None\n",
    "    return vrating\n",
    "\n",
    "def get_date(vreview):\n",
    "    return vreview.find('div', class_='date').text\n",
    "\n",
    "def get_coment(vreview):\n",
    "    try:\n",
    "        vcomment = vreview.find('span', class_='blurb blurb_expanded').text\n",
    "    except: \n",
    "        vcomment = vreview.find('div', class_='review_body').find('span', class_='blurb blurb_expanded')\n",
    "    return vcomment\n",
    "\n",
    "def get_title(vurl):\n",
    "\n",
    "    bs_title = BeautifulSoup(response.text, 'html.parser')\n",
    "    vtitle = bs_title.find('div', class_='product_title').find('a').text.strip('\\n')\n",
    "\n",
    "    return vtitle\n",
    "\n",
    "def get_last_pages(vurl, pages = -1):\n",
    "\n",
    "    bs_last_page = BeautifulSoup(response.text, 'html.parser')\n",
    "    v_last_page = int(bs_last_page.find('div', class_='pages').find('li', class_=\"page last_page\").find('a').text)\n",
    "\n",
    "    #O numero de paginas deve ser superior a -1 e menor/igual ao total de paginas\n",
    "    if pages > -1 and pages <= v_last_page:\n",
    "        v_last_page = pages\n",
    "        \n",
    "    return v_last_page"
   ]
  },
  {
   "cell_type": "code",
   "execution_count": 3,
   "metadata": {},
   "outputs": [],
   "source": [
    "\n",
    "url_list = [\"https://www.metacritic.com/game/playstation-4/the-last-of-us-remastered/user-reviews\"\n",
    "            , \"https://www.metacritic.com/game/playstation-4/god-of-war-ragnarok/user-reviews\"\n",
    "            , \"https://www.metacritic.com/game/pc/duke-nukem-forever/user-reviews\"\n",
    "            , \"https://www.metacritic.com/game/playstation-4/biomutant/user-reviews\"\n",
    "            , \"https://www.metacritic.com/game/pc/no-mans-sky/user-reviews\"\n",
    "            , \"https://www.metacritic.com/game/playstation-4/cyberpunk-2077/user-reviews\"]\n",
    "user_agent = {'User-agent': 'Mozilla/5.0'}"
   ]
  },
  {
   "cell_type": "code",
   "execution_count": 4,
   "metadata": {},
   "outputs": [
    {
     "name": "stdout",
     "output_type": "stream",
     "text": [
      "-----Loading Title: The Last of Us Remastered\n",
      "-----Loaded Page: 35 -------\n",
      "-----Loading Title: God of War: Ragnarok\n",
      "-----Loaded Page: 4 -------\n",
      "-----Loading Title: Duke Nukem Forever\n",
      "-----Loaded Page: 6 -------\n",
      "-----Loading Title: Biomutant\n",
      "-----Loaded Page: 4 -------\n",
      "-----Loading Title: No Man's Sky\n",
      "-----Loaded Page: 10 -------\n",
      "-----Loading Title: Cyberpunk 2077\n",
      "-----Loaded Page: 55 -------\n"
     ]
    }
   ],
   "source": [
    "review_lst = []\n",
    "\n",
    "for url in url_list:\n",
    "    response = requests.get(url, headers=user_agent)\n",
    "    last_page = get_last_pages(url)\n",
    "    title = get_title(url)\n",
    "    page_num = 0\n",
    "\n",
    "    print('-----Loading Title: ' + title)\n",
    "    while page_num <= last_page:\n",
    "        \n",
    "        response = requests.get(url + \"/user-reviews?page=\" + str(page_num), headers=user_agent)\n",
    "\n",
    "        #Scrap\n",
    "        bs = BeautifulSoup(response.text, 'html.parser')\n",
    "        reviews = bs.find_all('div', class_='review_content')\n",
    "        review_lst.append(pd.DataFrame([{'title': title\n",
    "                                        ,'name': get_name(row)\n",
    "                                        ,'date' : get_date(row)\n",
    "                                        ,'rating': get_rating(row)\n",
    "                                        ,'comment': get_coment(row)\n",
    "                                        } for row in reviews]))\n",
    "\n",
    "        \n",
    "        page_num = page_num+1\n",
    "    print('-----Loaded Page: ' + str(page_num) + ' -------')\n",
    "    \n",
    "    df_review = pd.concat(review_lst)\n",
    "    df_review = df_review[df_review['comment'].notna()]\n",
    "    df_review['rating'] = df_review['rating'].astype(\"Int8\")\n"
   ]
  },
  {
   "cell_type": "code",
   "execution_count": 5,
   "metadata": {},
   "outputs": [
    {
     "data": {
      "text/html": [
       "<div>\n",
       "<style scoped>\n",
       "    .dataframe tbody tr th:only-of-type {\n",
       "        vertical-align: middle;\n",
       "    }\n",
       "\n",
       "    .dataframe tbody tr th {\n",
       "        vertical-align: top;\n",
       "    }\n",
       "\n",
       "    .dataframe thead th {\n",
       "        text-align: right;\n",
       "    }\n",
       "</style>\n",
       "<table border=\"1\" class=\"dataframe\">\n",
       "  <thead>\n",
       "    <tr style=\"text-align: right;\">\n",
       "      <th></th>\n",
       "      <th>title</th>\n",
       "      <th>name</th>\n",
       "      <th>date</th>\n",
       "      <th>rating</th>\n",
       "      <th>comment</th>\n",
       "    </tr>\n",
       "  </thead>\n",
       "  <tbody>\n",
       "    <tr>\n",
       "      <th>1</th>\n",
       "      <td>The Last of Us Remastered</td>\n",
       "      <td>Nataraja</td>\n",
       "      <td>Aug  1, 2014</td>\n",
       "      <td>10</td>\n",
       "      <td>General Overview: Fantastic story, smooth grap...</td>\n",
       "    </tr>\n",
       "    <tr>\n",
       "      <th>4</th>\n",
       "      <td>The Last of Us Remastered</td>\n",
       "      <td>brad0103triplex</td>\n",
       "      <td>Jul 29, 2014</td>\n",
       "      <td>10</td>\n",
       "      <td>This is pretty much the same game I loved on t...</td>\n",
       "    </tr>\n",
       "    <tr>\n",
       "      <th>5</th>\n",
       "      <td>The Last of Us Remastered</td>\n",
       "      <td>awohlleb</td>\n",
       "      <td>Jul 29, 2014</td>\n",
       "      <td>10</td>\n",
       "      <td>When you stand at the top of the heap with thi...</td>\n",
       "    </tr>\n",
       "    <tr>\n",
       "      <th>6</th>\n",
       "      <td>The Last of Us Remastered</td>\n",
       "      <td>FinalFantasy467</td>\n",
       "      <td>Jul 30, 2014</td>\n",
       "      <td>10</td>\n",
       "      <td>The last of us is such an amazing experience a...</td>\n",
       "    </tr>\n",
       "    <tr>\n",
       "      <th>9</th>\n",
       "      <td>The Last of Us Remastered</td>\n",
       "      <td>MONG</td>\n",
       "      <td>Aug  1, 2014</td>\n",
       "      <td>10</td>\n",
       "      <td>The Original Was Amazing – This One is Even Be...</td>\n",
       "    </tr>\n",
       "  </tbody>\n",
       "</table>\n",
       "</div>"
      ],
      "text/plain": [
       "                       title             name          date  rating  \\\n",
       "1  The Last of Us Remastered         Nataraja  Aug  1, 2014      10   \n",
       "4  The Last of Us Remastered  brad0103triplex  Jul 29, 2014      10   \n",
       "5  The Last of Us Remastered         awohlleb  Jul 29, 2014      10   \n",
       "6  The Last of Us Remastered  FinalFantasy467  Jul 30, 2014      10   \n",
       "9  The Last of Us Remastered             MONG  Aug  1, 2014      10   \n",
       "\n",
       "                                             comment  \n",
       "1  General Overview: Fantastic story, smooth grap...  \n",
       "4  This is pretty much the same game I loved on t...  \n",
       "5  When you stand at the top of the heap with thi...  \n",
       "6  The last of us is such an amazing experience a...  \n",
       "9  The Original Was Amazing – This One is Even Be...  "
      ]
     },
     "execution_count": 5,
     "metadata": {},
     "output_type": "execute_result"
    }
   ],
   "source": [
    "df_review.head()"
   ]
  },
  {
   "cell_type": "code",
   "execution_count": 6,
   "metadata": {},
   "outputs": [
    {
     "data": {
      "text/plain": [
       "Biomutant                     116\n",
       "Cyberpunk 2077               1778\n",
       "Duke Nukem Forever            282\n",
       "God of War: Ragnarok           60\n",
       "No Man's Sky                  398\n",
       "The Last of Us Remastered     951\n",
       "Name: title, dtype: int64"
      ]
     },
     "execution_count": 6,
     "metadata": {},
     "output_type": "execute_result"
    }
   ],
   "source": [
    "df_review['title'].value_counts().sort_index()"
   ]
  },
  {
   "cell_type": "code",
   "execution_count": 7,
   "metadata": {},
   "outputs": [
    {
     "data": {
      "text/html": [
       "<div>\n",
       "<style scoped>\n",
       "    .dataframe tbody tr th:only-of-type {\n",
       "        vertical-align: middle;\n",
       "    }\n",
       "\n",
       "    .dataframe tbody tr th {\n",
       "        vertical-align: top;\n",
       "    }\n",
       "\n",
       "    .dataframe thead th {\n",
       "        text-align: right;\n",
       "    }\n",
       "</style>\n",
       "<table border=\"1\" class=\"dataframe\">\n",
       "  <thead>\n",
       "    <tr style=\"text-align: right;\">\n",
       "      <th></th>\n",
       "      <th>rating</th>\n",
       "    </tr>\n",
       "  </thead>\n",
       "  <tbody>\n",
       "    <tr>\n",
       "      <th>count</th>\n",
       "      <td>3585.0</td>\n",
       "    </tr>\n",
       "    <tr>\n",
       "      <th>mean</th>\n",
       "      <td>5.564296</td>\n",
       "    </tr>\n",
       "    <tr>\n",
       "      <th>std</th>\n",
       "      <td>4.009734</td>\n",
       "    </tr>\n",
       "    <tr>\n",
       "      <th>min</th>\n",
       "      <td>0.0</td>\n",
       "    </tr>\n",
       "    <tr>\n",
       "      <th>25%</th>\n",
       "      <td>1.0</td>\n",
       "    </tr>\n",
       "    <tr>\n",
       "      <th>50%</th>\n",
       "      <td>7.0</td>\n",
       "    </tr>\n",
       "    <tr>\n",
       "      <th>75%</th>\n",
       "      <td>10.0</td>\n",
       "    </tr>\n",
       "    <tr>\n",
       "      <th>max</th>\n",
       "      <td>10.0</td>\n",
       "    </tr>\n",
       "  </tbody>\n",
       "</table>\n",
       "</div>"
      ],
      "text/plain": [
       "         rating\n",
       "count    3585.0\n",
       "mean   5.564296\n",
       "std    4.009734\n",
       "min         0.0\n",
       "25%         1.0\n",
       "50%         7.0\n",
       "75%        10.0\n",
       "max        10.0"
      ]
     },
     "execution_count": 7,
     "metadata": {},
     "output_type": "execute_result"
    }
   ],
   "source": [
    "df_review.describe()"
   ]
  },
  {
   "cell_type": "code",
   "execution_count": 8,
   "metadata": {},
   "outputs": [
    {
     "data": {
      "text/plain": [
       "0     724\n",
       "1     271\n",
       "2     192\n",
       "3     158\n",
       "4     144\n",
       "5     127\n",
       "6     136\n",
       "7     182\n",
       "8     307\n",
       "9     378\n",
       "10    966\n",
       "Name: rating, dtype: Int64"
      ]
     },
     "execution_count": 8,
     "metadata": {},
     "output_type": "execute_result"
    }
   ],
   "source": [
    "df_review['rating'].value_counts().sort_index()"
   ]
  },
  {
   "attachments": {},
   "cell_type": "markdown",
   "metadata": {},
   "source": [
    "### Primeiros levantamentos (10/04/2023):\n",
    "- Avaliações que não possuem comentarios foram removidos da base para evitar problemas com a analise de texto\n",
    "- Amostra possui 3585 avaliações\n",
    "- Média de avaliações em 5.5\n",
    "- A mediana das avaliações = 7.5"
   ]
  },
  {
   "attachments": {},
   "cell_type": "markdown",
   "metadata": {},
   "source": [
    "## Preperação dos dados"
   ]
  },
  {
   "cell_type": "code",
   "execution_count": 9,
   "metadata": {},
   "outputs": [],
   "source": [
    "import nltk\n",
    "from nltk.corpus import stopwords\n",
    "from nltk.tokenize import word_tokenize\n",
    "from nltk.stem import WordNetLemmatizer\n",
    "import string\n",
    "import spacy.cli\n"
   ]
  },
  {
   "attachments": {},
   "cell_type": "markdown",
   "metadata": {},
   "source": [
    "### Lematizer\n",
    "- Criando a lista de stopwords e utilizando spaCy para lematização da lista\n"
   ]
  },
  {
   "cell_type": "code",
   "execution_count": 10,
   "metadata": {},
   "outputs": [
    {
     "name": "stderr",
     "output_type": "stream",
     "text": [
      "[nltk_data] Downloading package stopwords to\n",
      "[nltk_data]     C:\\Users\\victo\\AppData\\Roaming\\nltk_data...\n",
      "[nltk_data]   Package stopwords is already up-to-date!\n"
     ]
    },
    {
     "name": "stdout",
     "output_type": "stream",
     "text": [
      "\u001b[38;5;2m✔ Download and installation successful\u001b[0m\n",
      "You can now load the package via spacy.load('en_core_web_sm')\n"
     ]
    }
   ],
   "source": [
    "nltk.download('stopwords')\n",
    "stop_words = set(stopwords.words('english'))\n",
    "\n",
    "spacy.cli.download(\"en_core_web_sm\")\n",
    "nlp = spacy.load('en_core_web_sm')\n",
    "\n",
    "stop_words_lemma = nlp(' '.join(stop_words))\n",
    "stop_words_lemma = [' '.join(token.lemma_) for token in stop_words_lemma]\n"
   ]
  },
  {
   "cell_type": "code",
   "execution_count": 24,
   "metadata": {},
   "outputs": [],
   "source": [
    "\n",
    "# Função para limpeza de texto\n",
    "def preprocess_text(vtext):\n",
    "    # remover pontuações\n",
    "    vtext = vtext.translate(str.maketrans('', '', string.punctuation))\n",
    "    vtext = vtext.lower()\n",
    "    vtext = re.sub(r'[^a-zàáãâéêíóôõú\\s]', '', vtext)\n",
    "\n",
    "    return vtext\n",
    "\n",
    "# Função para remover stopwords e aplica a lematização a um campo de texto\n",
    "def text_lemmatizer(vtext):\n",
    "\n",
    "    #limpando texto\n",
    "    text_clear = preprocess_text(vtext)\n",
    "\n",
    "    # Removendo stopwords\n",
    "    token_list = text_clear.split()\n",
    "    token_list = [token for token in token_list if token not in stop_words_lemma]\n",
    "\n",
    "    # Juntando os tokens novamente em um único texto\n",
    "    token_list = nlp(' '.join(token_list))\n",
    "    token_list = [token.lemma_ for token in token_list]\n",
    "    text = ' '.join(token_list)\n",
    "    \n",
    "    # text = text\n",
    "    return text\n"
   ]
  },
  {
   "cell_type": "code",
   "execution_count": 25,
   "metadata": {},
   "outputs": [],
   "source": [
    "\n",
    "df_review_token = df_review.copy()\n",
    "df_review_token['comment'] = df_review_token['comment'].apply(text_lemmatizer)\n",
    "\n",
    "# df_review_token"
   ]
  },
  {
   "attachments": {},
   "cell_type": "markdown",
   "metadata": {},
   "source": [
    "### Vetorizer\n",
    "- Criação do vetor de caracteristica a partir da base criada anteriormente, já com aplicação da lematização e filtragem das stopwords"
   ]
  },
  {
   "cell_type": "code",
   "execution_count": 35,
   "metadata": {},
   "outputs": [],
   "source": [
    "from sklearn.feature_extraction.text import TfidfVectorizer\n",
    "import numpy as np\n",
    "\n",
    "vectorizer = TfidfVectorizer(\n",
    "    binary= False,\n",
    "    norm = 'l2',\n",
    "    use_idf = True,\n",
    "    token_pattern=r'\\b[^\\W\\d]{3,}\\b'\n",
    ")\n",
    "\n",
    "def vectorize(content, vectorizer: TfidfVectorizer = vectorizer):\n",
    "    matrix = vectorizer.fit_transform(content)\n",
    "    return matrix.toarray().tolist()\n",
    "\n",
    "df_reviews_vectorized = df_review_token.copy()\n",
    "df_reviews_vectorized[\"vectorizer\"] = vectorize(df_reviews_vectorized[\"comment\"])\n",
    "df_reviews_vectorized['fx_rating'] = np.where(df_reviews_vectorized['rating'] <5, 'Negativo',\n",
    "                                     np.where(df_reviews_vectorized['rating'] <7, 'Neutro',\n",
    "                                     np.where(df_reviews_vectorized['rating'] <=10, 'Positivo', None)))\n",
    "\n",
    "df_reviews_vectorized = df_reviews_vectorized[df_reviews_vectorized['fx_rating'].notna()]\n",
    "# df_reviews_vectorized['vectorizer']"
   ]
  },
  {
   "cell_type": "code",
   "execution_count": 36,
   "metadata": {},
   "outputs": [
    {
     "data": {
      "text/plain": [
       "Negativo    1489\n",
       "Neutro       263\n",
       "Positivo    1833\n",
       "Name: fx_rating, dtype: int64"
      ]
     },
     "execution_count": 36,
     "metadata": {},
     "output_type": "execute_result"
    }
   ],
   "source": [
    "df_reviews_vectorized['fx_rating'].value_counts().sort_index()"
   ]
  },
  {
   "attachments": {},
   "cell_type": "markdown",
   "metadata": {},
   "source": [
    "## Modelagem"
   ]
  },
  {
   "cell_type": "code",
   "execution_count": 53,
   "metadata": {},
   "outputs": [
    {
     "name": "stdout",
     "output_type": "stream",
     "text": [
      "Acurácia do modelo:  71.0 %\n"
     ]
    }
   ],
   "source": [
    "from sklearn.naive_bayes import MultinomialNB\n",
    "from sklearn.model_selection import train_test_split\n",
    "\n",
    "X = df_reviews_vectorized[\"vectorizer\"].tolist()\n",
    "Y = df_reviews_vectorized['fx_rating']\n",
    "\n",
    "X_train, X_test, y_train, y_test = train_test_split(X, Y, test_size=0.3, random_state=321)\n",
    "\n",
    "model = MultinomialNB()\n",
    "model = model.fit(X_train, y_train)\n",
    "\n",
    "print(\"Acurácia do modelo: \", round(model.score(X_test, y_test), 2) * 100, \"%\")"
   ]
  },
  {
   "cell_type": "code",
   "execution_count": 33,
   "metadata": {},
   "outputs": [
    {
     "name": "stdout",
     "output_type": "stream",
     "text": [
      "Acurácia do modelo:  60.0 %\n"
     ]
    }
   ],
   "source": [
    "from sklearn import naive_bayes, tree\n",
    "\n",
    "X = df_reviews_vectorized[\"vectorizer\"].tolist()\n",
    "Y = df_reviews_vectorized['fx_rating']\n",
    "\n",
    "X_train, X_test, y_train, y_test = train_test_split(X, Y, test_size=0.3, random_state=123)\n",
    "\n",
    "model = tree.DecisionTreeClassifier()\n",
    "model = model.fit(X_train, y_train)\n",
    "\n",
    "print(\"Acurácia do modelo: \", round(model.score(X_test, y_test), 2) * 100, \"%\")"
   ]
  },
  {
   "attachments": {},
   "cell_type": "markdown",
   "metadata": {},
   "source": [
    "# Conclusão do trabalho\n",
    "Apensar de um ser um modelo bem basico, foi possivel alcançar uma assertividade de 71% com o modelo multinomial, sendo um modelo utilizado para classificação.\n",
    "Fiz um pequeno teste com o modelo da arvore de decisão porém é possivel ver que o resultado acabou sendo inferior.\n",
    "\n",
    "Em determinado momento do trabalho ficou claro a importancia da utilização da lematização, para fazer o teste rodei o modelo apenas com limpeza dos dados e o resultado foi uma assertividade de 42%, -29 p.p. em relação ao modelo com a tokenzição.\n",
    "\n",
    "Incluir outras variaveis, utilizar outras soluções para melhorar a tokenização e separar algumas avaliações que estão em outras linguas. São varias soluções que poderiam melhorar a acuracia do modelo. Um aprofundamento sobre a utilização de outros modelo e suas aplicações também parece ser bem interassante, pois facilita o entendimento e explicação do resultado e como consequencia nos leva a novas oportunidades de melhoria."
   ]
  }
 ],
 "metadata": {
  "kernelspec": {
   "display_name": "Python 3",
   "language": "python",
   "name": "python3"
  },
  "language_info": {
   "codemirror_mode": {
    "name": "ipython",
    "version": 3
   },
   "file_extension": ".py",
   "mimetype": "text/x-python",
   "name": "python",
   "nbconvert_exporter": "python",
   "pygments_lexer": "ipython3",
   "version": "3.10.7"
  },
  "orig_nbformat": 4
 },
 "nbformat": 4,
 "nbformat_minor": 2
}
