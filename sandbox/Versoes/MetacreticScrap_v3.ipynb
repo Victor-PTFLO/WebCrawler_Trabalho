{
 "cells": [
  {
   "attachments": {},
   "cell_type": "markdown",
   "metadata": {},
   "source": [
    "# Tema: Avaliação de jogos\n",
    "- The Last Of Us Remastered\n",
    "- Duke Nukem Forever\n",
    "- God of War: Ragnarok\n",
    "- No Man's Sky\n",
    "- Biomutant\n",
    "\n",
    "### Objetivo \n",
    "- Desenvolver um crawler para coletar do site de avaliações de filmes e jogos(Metacritic) e construir um modelo de analise de sentimento"
   ]
  },
  {
   "attachments": {},
   "cell_type": "markdown",
   "metadata": {},
   "source": [
    "## Criação do Crawler"
   ]
  },
  {
   "cell_type": "code",
   "execution_count": 1,
   "metadata": {},
   "outputs": [],
   "source": [
    "import requests\n",
    "import re\n",
    "from bs4 import BeautifulSoup\n",
    "import pandas as pd"
   ]
  },
  {
   "cell_type": "code",
   "execution_count": 2,
   "metadata": {},
   "outputs": [],
   "source": [
    "def get_name(vreview):\n",
    "    try:\n",
    "        vname = vreview.find('div', class_='name').find('a').text\n",
    "    except:\n",
    "        vname = vreview.find('div', class_='review_body').find('span', class_='blurb blurb_expanded')\n",
    "    return vname\n",
    "\n",
    "def get_rating(vreview):\n",
    "    try:\n",
    "        vrating = vreview.find('div', class_='review_grade').text.strip('\\n')\n",
    "    except:\n",
    "        vrating = None\n",
    "    return vrating\n",
    "\n",
    "def get_date(vreview):\n",
    "    return vreview.find('div', class_='date').text\n",
    "\n",
    "def get_coment(vreview):\n",
    "    try:\n",
    "        vcomment = vreview.find('span', class_='blurb blurb_expanded').text\n",
    "    except: \n",
    "        vcomment = vreview.find('div', class_='review_body').find('span', class_='blurb blurb_expanded')\n",
    "    return vcomment\n",
    "\n",
    "def get_title(vurl):\n",
    "\n",
    "    bs_title = BeautifulSoup(response.text, 'html.parser')\n",
    "    vtitle = bs_title.find('div', class_='product_title').find('a').text.strip('\\n')\n",
    "\n",
    "    return vtitle\n",
    "\n",
    "def get_last_pages(vurl, pages = -1):\n",
    "\n",
    "    bs_last_page = BeautifulSoup(response.text, 'html.parser')\n",
    "    v_last_page = int(bs_last_page.find('div', class_='pages').find('li', class_=\"page last_page\").find('a').text)\n",
    "\n",
    "    #O numero de paginas deve ser superior a -1 e menor/igual ao total de paginas\n",
    "    if pages > -1 and pages <= v_last_page:\n",
    "        v_last_page = pages\n",
    "        \n",
    "    return v_last_page"
   ]
  },
  {
   "cell_type": "code",
   "execution_count": 3,
   "metadata": {},
   "outputs": [],
   "source": [
    "\n",
    "url_list = [\"https://www.metacritic.com/game/playstation-4/the-last-of-us-remastered/user-reviews\"\n",
    "            , \"https://www.metacritic.com/game/playstation-4/god-of-war-ragnarok/user-reviews\"\n",
    "            , \"https://www.metacritic.com/game/pc/duke-nukem-forever/user-reviews\"\n",
    "            , \"https://www.metacritic.com/game/playstation-4/biomutant/user-reviews\"\n",
    "            , \"https://www.metacritic.com/game/pc/no-mans-sky/user-reviews\"]\n",
    "user_agent = {'User-agent': 'Mozilla/5.0'}"
   ]
  },
  {
   "cell_type": "code",
   "execution_count": 4,
   "metadata": {},
   "outputs": [
    {
     "name": "stdout",
     "output_type": "stream",
     "text": [
      "-----Loading Title: The Last of Us Remastered\n",
      "-----Loaded Page: 0 -------\n",
      "-----Loaded Page: 1 -------\n",
      "-----Loaded Page: 2 -------\n",
      "-----Loaded Page: 3 -------\n",
      "-----Loaded Page: 4 -------\n",
      "-----Loaded Page: 5 -------\n",
      "-----Loaded Page: 6 -------\n",
      "-----Loaded Page: 7 -------\n",
      "-----Loaded Page: 8 -------\n",
      "-----Loaded Page: 9 -------\n",
      "-----Loaded Page: 10 -------\n",
      "-----Loaded Page: 11 -------\n",
      "-----Loaded Page: 12 -------\n",
      "-----Loaded Page: 13 -------\n",
      "-----Loaded Page: 14 -------\n",
      "-----Loaded Page: 15 -------\n",
      "-----Loaded Page: 16 -------\n",
      "-----Loaded Page: 17 -------\n",
      "-----Loaded Page: 18 -------\n",
      "-----Loaded Page: 19 -------\n",
      "-----Loaded Page: 20 -------\n",
      "-----Loaded Page: 21 -------\n",
      "-----Loaded Page: 22 -------\n",
      "-----Loaded Page: 23 -------\n",
      "-----Loaded Page: 24 -------\n",
      "-----Loaded Page: 25 -------\n",
      "-----Loaded Page: 26 -------\n",
      "-----Loaded Page: 27 -------\n",
      "-----Loaded Page: 28 -------\n",
      "-----Loaded Page: 29 -------\n",
      "-----Loaded Page: 30 -------\n",
      "-----Loaded Page: 31 -------\n",
      "-----Loaded Page: 32 -------\n",
      "-----Loaded Page: 33 -------\n",
      "-----Loaded Page: 34 -------\n",
      "-----Loading Title: God of War: Ragnarok\n",
      "-----Loaded Page: 0 -------\n",
      "-----Loaded Page: 1 -------\n",
      "-----Loaded Page: 2 -------\n",
      "-----Loaded Page: 3 -------\n",
      "-----Loading Title: Duke Nukem Forever\n",
      "-----Loaded Page: 0 -------\n",
      "-----Loaded Page: 1 -------\n",
      "-----Loaded Page: 2 -------\n",
      "-----Loaded Page: 3 -------\n",
      "-----Loaded Page: 4 -------\n",
      "-----Loaded Page: 5 -------\n",
      "-----Loading Title: Biomutant\n",
      "-----Loaded Page: 0 -------\n",
      "-----Loaded Page: 1 -------\n",
      "-----Loaded Page: 2 -------\n",
      "-----Loaded Page: 3 -------\n",
      "-----Loading Title: No Man's Sky\n",
      "-----Loaded Page: 0 -------\n",
      "-----Loaded Page: 1 -------\n",
      "-----Loaded Page: 2 -------\n",
      "-----Loaded Page: 3 -------\n",
      "-----Loaded Page: 4 -------\n",
      "-----Loaded Page: 5 -------\n",
      "-----Loaded Page: 6 -------\n",
      "-----Loaded Page: 7 -------\n",
      "-----Loaded Page: 8 -------\n",
      "-----Loaded Page: 9 -------\n"
     ]
    }
   ],
   "source": [
    "review_lst = []\n",
    "\n",
    "for url in url_list:\n",
    "    response = requests.get(url, headers=user_agent)\n",
    "    last_page = get_last_pages(url)\n",
    "    title = get_title(url)\n",
    "    page_num = 0\n",
    "\n",
    "    print('-----Loading Title: ' + title)\n",
    "    while page_num <= last_page:\n",
    "        \n",
    "        response = requests.get(url + \"/user-reviews?page=\" + str(page_num), headers=user_agent)\n",
    "\n",
    "        #Scrap\n",
    "        bs = BeautifulSoup(response.text, 'html.parser')\n",
    "        reviews = bs.find_all('div', class_='review_content')\n",
    "        review_lst.append(pd.DataFrame([{'title': title\n",
    "                                        ,'name': get_name(row)\n",
    "                                        ,'date' : get_date(row)\n",
    "                                        ,'rating': get_rating(row)\n",
    "                                        ,'comment': get_coment(row)\n",
    "                                        } for row in reviews]))\n",
    "\n",
    "        print('-----Loaded Page: ' + str(page_num) + ' -------')\n",
    "        page_num = page_num+1\n",
    "\n",
    "    df_review = pd.concat(review_lst)\n",
    "    df_review = df_review[df_review['comment'].notna()]\n",
    "    df_review['rating'] = df_review['rating'].astype(\"Int8\")\n"
   ]
  },
  {
   "cell_type": "code",
   "execution_count": 5,
   "metadata": {},
   "outputs": [
    {
     "data": {
      "text/html": [
       "<div>\n",
       "<style scoped>\n",
       "    .dataframe tbody tr th:only-of-type {\n",
       "        vertical-align: middle;\n",
       "    }\n",
       "\n",
       "    .dataframe tbody tr th {\n",
       "        vertical-align: top;\n",
       "    }\n",
       "\n",
       "    .dataframe thead th {\n",
       "        text-align: right;\n",
       "    }\n",
       "</style>\n",
       "<table border=\"1\" class=\"dataframe\">\n",
       "  <thead>\n",
       "    <tr style=\"text-align: right;\">\n",
       "      <th></th>\n",
       "      <th>title</th>\n",
       "      <th>name</th>\n",
       "      <th>date</th>\n",
       "      <th>rating</th>\n",
       "      <th>comment</th>\n",
       "    </tr>\n",
       "  </thead>\n",
       "  <tbody>\n",
       "    <tr>\n",
       "      <th>1</th>\n",
       "      <td>The Last of Us Remastered</td>\n",
       "      <td>Nataraja</td>\n",
       "      <td>Aug  1, 2014</td>\n",
       "      <td>10</td>\n",
       "      <td>General Overview: Fantastic story, smooth grap...</td>\n",
       "    </tr>\n",
       "    <tr>\n",
       "      <th>4</th>\n",
       "      <td>The Last of Us Remastered</td>\n",
       "      <td>brad0103triplex</td>\n",
       "      <td>Jul 29, 2014</td>\n",
       "      <td>10</td>\n",
       "      <td>This is pretty much the same game I loved on t...</td>\n",
       "    </tr>\n",
       "    <tr>\n",
       "      <th>5</th>\n",
       "      <td>The Last of Us Remastered</td>\n",
       "      <td>awohlleb</td>\n",
       "      <td>Jul 29, 2014</td>\n",
       "      <td>10</td>\n",
       "      <td>When you stand at the top of the heap with thi...</td>\n",
       "    </tr>\n",
       "    <tr>\n",
       "      <th>6</th>\n",
       "      <td>The Last of Us Remastered</td>\n",
       "      <td>FinalFantasy467</td>\n",
       "      <td>Jul 30, 2014</td>\n",
       "      <td>10</td>\n",
       "      <td>The last of us is such an amazing experience a...</td>\n",
       "    </tr>\n",
       "    <tr>\n",
       "      <th>9</th>\n",
       "      <td>The Last of Us Remastered</td>\n",
       "      <td>MONG</td>\n",
       "      <td>Aug  1, 2014</td>\n",
       "      <td>10</td>\n",
       "      <td>The Original Was Amazing – This One is Even Be...</td>\n",
       "    </tr>\n",
       "  </tbody>\n",
       "</table>\n",
       "</div>"
      ],
      "text/plain": [
       "                       title             name          date  rating  \\\n",
       "1  The Last of Us Remastered         Nataraja  Aug  1, 2014      10   \n",
       "4  The Last of Us Remastered  brad0103triplex  Jul 29, 2014      10   \n",
       "5  The Last of Us Remastered         awohlleb  Jul 29, 2014      10   \n",
       "6  The Last of Us Remastered  FinalFantasy467  Jul 30, 2014      10   \n",
       "9  The Last of Us Remastered             MONG  Aug  1, 2014      10   \n",
       "\n",
       "                                             comment  \n",
       "1  General Overview: Fantastic story, smooth grap...  \n",
       "4  This is pretty much the same game I loved on t...  \n",
       "5  When you stand at the top of the heap with thi...  \n",
       "6  The last of us is such an amazing experience a...  \n",
       "9  The Original Was Amazing – This One is Even Be...  "
      ]
     },
     "execution_count": 5,
     "metadata": {},
     "output_type": "execute_result"
    }
   ],
   "source": [
    "df_review.head()"
   ]
  },
  {
   "cell_type": "code",
   "execution_count": 6,
   "metadata": {},
   "outputs": [
    {
     "data": {
      "text/plain": [
       "Biomutant                    116\n",
       "Duke Nukem Forever           282\n",
       "God of War: Ragnarok          60\n",
       "No Man's Sky                 398\n",
       "The Last of Us Remastered    951\n",
       "Name: title, dtype: int64"
      ]
     },
     "execution_count": 6,
     "metadata": {},
     "output_type": "execute_result"
    }
   ],
   "source": [
    "df_review['title'].value_counts().sort_index()"
   ]
  },
  {
   "cell_type": "code",
   "execution_count": 7,
   "metadata": {},
   "outputs": [
    {
     "data": {
      "text/html": [
       "<div>\n",
       "<style scoped>\n",
       "    .dataframe tbody tr th:only-of-type {\n",
       "        vertical-align: middle;\n",
       "    }\n",
       "\n",
       "    .dataframe tbody tr th {\n",
       "        vertical-align: top;\n",
       "    }\n",
       "\n",
       "    .dataframe thead th {\n",
       "        text-align: right;\n",
       "    }\n",
       "</style>\n",
       "<table border=\"1\" class=\"dataframe\">\n",
       "  <thead>\n",
       "    <tr style=\"text-align: right;\">\n",
       "      <th></th>\n",
       "      <th>rating</th>\n",
       "    </tr>\n",
       "  </thead>\n",
       "  <tbody>\n",
       "    <tr>\n",
       "      <th>count</th>\n",
       "      <td>1807.0</td>\n",
       "    </tr>\n",
       "    <tr>\n",
       "      <th>mean</th>\n",
       "      <td>7.469286</td>\n",
       "    </tr>\n",
       "    <tr>\n",
       "      <th>std</th>\n",
       "      <td>3.248651</td>\n",
       "    </tr>\n",
       "    <tr>\n",
       "      <th>min</th>\n",
       "      <td>0.0</td>\n",
       "    </tr>\n",
       "    <tr>\n",
       "      <th>25%</th>\n",
       "      <td>6.0</td>\n",
       "    </tr>\n",
       "    <tr>\n",
       "      <th>50%</th>\n",
       "      <td>9.0</td>\n",
       "    </tr>\n",
       "    <tr>\n",
       "      <th>75%</th>\n",
       "      <td>10.0</td>\n",
       "    </tr>\n",
       "    <tr>\n",
       "      <th>max</th>\n",
       "      <td>10.0</td>\n",
       "    </tr>\n",
       "  </tbody>\n",
       "</table>\n",
       "</div>"
      ],
      "text/plain": [
       "         rating\n",
       "count    1807.0\n",
       "mean   7.469286\n",
       "std    3.248651\n",
       "min         0.0\n",
       "25%         6.0\n",
       "50%         9.0\n",
       "75%        10.0\n",
       "max        10.0"
      ]
     },
     "execution_count": 7,
     "metadata": {},
     "output_type": "execute_result"
    }
   ],
   "source": [
    "df_review.describe()"
   ]
  },
  {
   "cell_type": "code",
   "execution_count": 8,
   "metadata": {},
   "outputs": [
    {
     "data": {
      "text/plain": [
       "0     124\n",
       "1      59\n",
       "2      55\n",
       "3      63\n",
       "4      62\n",
       "5      56\n",
       "6      78\n",
       "7     106\n",
       "8     187\n",
       "9     265\n",
       "10    752\n",
       "Name: rating, dtype: Int64"
      ]
     },
     "execution_count": 8,
     "metadata": {},
     "output_type": "execute_result"
    }
   ],
   "source": [
    "df_review['rating'].value_counts().sort_index()"
   ]
  },
  {
   "attachments": {},
   "cell_type": "markdown",
   "metadata": {},
   "source": [
    "## Primeiros levantamentos (10/04/2023):\n",
    "- Avaliações que não possuem comentarios foram removidos da base para evitar problemas com a analise de texto\n",
    "- Amostra possui 1807 avaliações\n",
    "- Média de avaliações em 7.4\n",
    "- A mediana das avaliações = 9"
   ]
  }
 ],
 "metadata": {
  "kernelspec": {
   "display_name": "Python 3",
   "language": "python",
   "name": "python3"
  },
  "language_info": {
   "codemirror_mode": {
    "name": "ipython",
    "version": 3
   },
   "file_extension": ".py",
   "mimetype": "text/x-python",
   "name": "python",
   "nbconvert_exporter": "python",
   "pygments_lexer": "ipython3",
   "version": "3.10.7"
  },
  "orig_nbformat": 4
 },
 "nbformat": 4,
 "nbformat_minor": 2
}
